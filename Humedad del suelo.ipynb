{
 "cells": [
  {
   "cell_type": "code",
   "execution_count": 1,
   "id": "502a3544-8cb5-48de-aecc-9ae15ad2db65",
   "metadata": {},
   "outputs": [],
   "source": [
    "import ee\n",
    "import os\n",
    "import geemap"
   ]
  },
  {
   "cell_type": "code",
   "execution_count": 11,
   "id": "abad8aa0-0459-4de7-8229-9545f176279e",
   "metadata": {},
   "outputs": [
    {
     "data": {
      "application/vnd.jupyter.widget-view+json": {
       "model_id": "624a6e486e44464084b31ac923fadbd8",
       "version_major": 2,
       "version_minor": 0
      },
      "text/plain": [
       "Map(center=[13.279654995933441, -86.310249645146], controls=(WidgetControl(options=['position', 'transparent_b…"
      ]
     },
     "metadata": {},
     "output_type": "display_data"
    }
   ],
   "source": [
    "Map = geemap.Map(center = (12.5, -85.5), zoom = 8)\n",
    "Map.add_basemap('HYBRID')\n",
    "\n",
    "# AOI = ee.FeatureCollection('USDOS/LSIB_SIMPLE/2017')\\\n",
    "#         .filter(ee.Filter.eq('country_na', 'Nicaragua'))\n",
    "\n",
    "AOI = ee.FeatureCollection('users/Guillermo-Ortega/Muestra_Roger/parcela_muestral')\n",
    "\n",
    "soilMoisture = ee.ImageCollection('NASA_USDA/HSL/SMAP10KM_soil_moisture')\\\n",
    "                  .filterDate('2022-05-23', '2022-05-29')\\\n",
    "                  .select('ssm').median().clip(AOI)\n",
    "\n",
    "soilMoistureVis = {\n",
    "  'min': 1.0,\n",
    "  'max': 28.0,\n",
    "  'palette': [\"ff0000\", \"ffff00\", \"97ff76\", \"0eb432\", \"4dc5ff\", \"0c35ff\"]\n",
    "}\n",
    "\n",
    "Map.addLayer(soilMoisture, soilMoistureVis, 'Soil Moisture')\n",
    "# Map.addLayer(parcela, {}, 'Parcela')\n",
    "Map.centerObject(AOI, 17)\n",
    "Map"
   ]
  }
 ],
 "metadata": {
  "hide_input": false,
  "kernelspec": {
   "display_name": "Python 3 (ipykernel)",
   "language": "python",
   "name": "python3"
  },
  "language_info": {
   "codemirror_mode": {
    "name": "ipython",
    "version": 3
   },
   "file_extension": ".py",
   "mimetype": "text/x-python",
   "name": "python",
   "nbconvert_exporter": "python",
   "pygments_lexer": "ipython3",
   "version": "3.9.7"
  },
  "toc": {
   "base_numbering": 1,
   "nav_menu": {},
   "number_sections": true,
   "sideBar": true,
   "skip_h1_title": false,
   "title_cell": "Table of Contents",
   "title_sidebar": "Contents",
   "toc_cell": false,
   "toc_position": {},
   "toc_section_display": true,
   "toc_window_display": false
  }
 },
 "nbformat": 4,
 "nbformat_minor": 5
}
