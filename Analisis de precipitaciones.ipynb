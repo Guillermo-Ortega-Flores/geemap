{
 "cells": [
  {
   "cell_type": "markdown",
   "id": "c1fbba20",
   "metadata": {},
   "source": [
    "**ESTIMACIÓN DE LAS PRECIPITACONES A PARTIR DE IMÁGENES SATELITALES DE GSMAP DE LA AGENCIA ESPACIAL JAPONESA, JAXA**"
   ]
  },
  {
   "cell_type": "markdown",
   "id": "3d291df5",
   "metadata": {},
   "source": [
    "## Descargamos los paquetes necesarios"
   ]
  },
  {
   "cell_type": "code",
   "execution_count": 11,
   "id": "214379c4",
   "metadata": {},
   "outputs": [],
   "source": [
    "import ee\n",
    "import os \n",
    "import geemap\n",
    "import numpy as np\n",
    "import pandas as pd\n",
    "import matplotlib.pyplot as plt\n",
    "import seaborn as sns"
   ]
  },
  {
   "cell_type": "markdown",
   "id": "3cd52d8c",
   "metadata": {},
   "source": [
    "## Accediendo a imágenes de lluvia de GSMaP\n",
    "* Acceso a imágenes y delimitación de areas de estudio\n",
    "* Descarga de datos a la computadora en formato csv\n",
    "* Presentación de los datos en el mapa"
   ]
  },
  {
   "cell_type": "code",
   "execution_count": 10,
   "id": "73559564",
   "metadata": {},
   "outputs": [
    {
     "data": {
      "application/vnd.jupyter.widget-view+json": {
       "model_id": "fc0bd02e951d4009895c5da763b77886",
       "version_major": 2,
       "version_minor": 0
      },
      "text/plain": [
       "Map(center=[13.279654995933441, -86.310249645146], controls=(WidgetControl(options=['position', 'transparent_b…"
      ]
     },
     "metadata": {},
     "output_type": "display_data"
    }
   ],
   "source": [
    "Map = geemap.Map()\n",
    "Map.add_basemap(\"HYBRID\")\n",
    "#AOI = ee.FeatureCollection('users/Guillermo-Ortega/Limites/Departamentos')\n",
    "AOI = ee.FeatureCollection('users/Guillermo-Ortega/MAG_Datos/parcela_muestral_Roger')\n",
    "# Datos disponibles en reanalisis desde el 01-03-2000 a 12-03-2014\n",
    "# Datos disponibles en operacional desde el 01-03-2014 a actualidad\n",
    "pp = ee.ImageCollection(\"JAXA/GPM_L3/GSMaP/v6/operational\")\\\n",
    "                      .filter(ee.Filter.calendarRange(2022, 2022, 'year'))\\\n",
    "                      .filter(ee.Filter.calendarRange(164,170, 'day_of_year'))\\\n",
    "                      .select('hourlyPrecipRate').sum().clip(AOI); \n",
    "\n",
    "# direccion = os.path.expanduser('~/Desktop/TELEDETECCIÓN 2022/Clima/Precipitación (GSMap)/2022')\n",
    "# salida_pp_stats = os.path.join(direccion, 'PP_11_160_2022.csv')\n",
    "# if not os.path.exists(direccion): os.makedirs(direccion)\n",
    "# geemap.zonal_statistics(pp, AOI, salida_pp_stats, statistics_type = 'MEDIAN', scale = 11000)\n",
    "\n",
    "vis_pp = { 'min': 0, 'max': 250, 'palette': [\"ff0000\",\"ffff00\",\"97ff76\",\"0eb432\",\"4dc5ff\",\"0c35ff\"]}\n",
    "vis_lim = {'color': '00000000', 'width': 1, 'lineType': 'solid', 'fillColor': '00000000'}\n",
    "\n",
    "Map.addLayer(pp, vis_pp, 'lluvia')\n",
    "Map.addLayer(AOI, vis_lim, 'Límites')\n",
    "Map.centerObject(AOI, 9)\n",
    "Map"
   ]
  },
  {
   "cell_type": "code",
   "execution_count": null,
   "id": "b771e952",
   "metadata": {},
   "outputs": [],
   "source": [
    "# si desea se puede añadir una leyenda en forma de barra con tonos degradados\n",
    "colors = vis_pp[\"palette\"]\n",
    "vmin = vis_pp[\"min\"]\n",
    "vmax = vis_pp[\"max\"]\n",
    "Map.add_colorbar(vis_pp, label = \"precipitación en mm\", orientation = \"vertical\", position= \"bottomright\")"
   ]
  },
  {
   "cell_type": "markdown",
   "id": "80b091bc",
   "metadata": {},
   "source": [
    "## Mostrando la distribución de las precipitaciones por departamento\n",
    "* Traer el archivo desde un formato excel\n",
    "* Generar histográma de cajas para realizar la comparación interdepartamental"
   ]
  },
  {
   "cell_type": "code",
   "execution_count": null,
   "id": "a7f23aef",
   "metadata": {},
   "outputs": [],
   "source": [
    "ruta1 = \"C:/Users/guillermo.ortega/Desktop/TELEDETECCIÓN 2022/Clima/Precipitación (GSMap)/Prec 2001 - 2022.xlsx\"\n",
    "df_pp1 = pd.read_excel(ruta1, sheet_name= \"2022\").sort_values(\"DEPTO\")\n",
    "#df_pp1.head(5)"
   ]
  },
  {
   "cell_type": "code",
   "execution_count": null,
   "id": "beba5632",
   "metadata": {},
   "outputs": [],
   "source": [
    "f, ax = plt.subplots(figsize = (10, 5))\n",
    "sns.boxplot(x = \"DEPTO\", y = \"D_16\", data = df_pp1).set(\n",
    "    xlabel = \"Departamentos\", ylabel = \"Precip. en mm\", \n",
    "    title = \"Registros de lluvia durante el periodo del 31 de mayo al 9 de junio del 2022\")\n",
    "plt.xticks(rotation = 285)\n",
    "plt.grid()\n",
    "plt.show()"
   ]
  },
  {
   "cell_type": "markdown",
   "id": "2ba8150f",
   "metadata": {},
   "source": [
    "## Mostrando la distribución de las precipitaciones periodo 2001 - 2022\n",
    "* Traer el archivo desde un formato excel\n",
    "* Generar histograma de cajas para realizar la comparación interanual"
   ]
  },
  {
   "cell_type": "code",
   "execution_count": null,
   "id": "dcc7829e",
   "metadata": {},
   "outputs": [],
   "source": [
    "ruta2 = \"C:/Users/guillermo.ortega/Desktop/TELEDETECCIÓN 2022/Clima/Precipitación (GSMap)/Prec 2001 - 2022.xlsx\"\n",
    "df_pp2 = pd.read_excel(ruta2, sheet_name= \"2001-2022\").sort_values(\"Anio\")\n",
    "#df_pp2.head()"
   ]
  },
  {
   "cell_type": "code",
   "execution_count": null,
   "id": "51720a40",
   "metadata": {},
   "outputs": [],
   "source": [
    "f, ax = plt.subplots(figsize = (10, 5))\n",
    "sns.boxplot(x = \"Anio\", y = \"D_16\", data = df_pp2).set(\n",
    "    xlabel = \"Comparación interanual\", ylabel = \"precpitación en milímetros\", \n",
    "    title = \"Registros de lluvia durante el periodo del 31 de mayo al 9 de junio del 2001 al 2022\")\n",
    "plt.xticks(rotation = 285)\n",
    "plt.grid()\n",
    "plt.show()"
   ]
  }
 ],
 "metadata": {
  "hide_input": false,
  "kernelspec": {
   "display_name": "Python 3 (ipykernel)",
   "language": "python",
   "name": "python3"
  },
  "language_info": {
   "codemirror_mode": {
    "name": "ipython",
    "version": 3
   },
   "file_extension": ".py",
   "mimetype": "text/x-python",
   "name": "python",
   "nbconvert_exporter": "python",
   "pygments_lexer": "ipython3",
   "version": "3.9.7"
  },
  "toc": {
   "base_numbering": 1,
   "nav_menu": {},
   "number_sections": true,
   "sideBar": true,
   "skip_h1_title": false,
   "title_cell": "Table of Contents",
   "title_sidebar": "Contents",
   "toc_cell": false,
   "toc_position": {
    "height": "calc(100% - 180px)",
    "left": "10px",
    "top": "150px",
    "width": "166.475px"
   },
   "toc_section_display": true,
   "toc_window_display": false
  }
 },
 "nbformat": 4,
 "nbformat_minor": 5
}
