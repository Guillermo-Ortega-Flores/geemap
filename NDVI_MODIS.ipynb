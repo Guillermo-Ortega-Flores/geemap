{
 "cells": [
  {
   "cell_type": "code",
   "execution_count": 1,
   "id": "901c844b-5d9a-4ed8-92ec-022c16569fc3",
   "metadata": {},
   "outputs": [],
   "source": [
    "import ee \n",
    "import os\n",
    "import geemap"
   ]
  },
  {
   "cell_type": "code",
   "execution_count": null,
   "id": "40670899-991e-4682-ae64-60f7a25246c2",
   "metadata": {},
   "outputs": [],
   "source": [
    "Map = geemap.Map()\n",
    "AOI = ee.FeatureCollection('users/Guillermo-Ortega/Muestra_Roger/parcela_muestral')\n",
    "MODIS = ee.ImageCollection(\"MODIS/061/MOD13A1\" )\\\n",
    "                .filterBounds(AOI) \\\n",
    "                .filter(ee.Filter.calendarRange(2022, 2022, 'year')) \\\n",
    "                .filter(ee.Filter.calendarRange(143, 149, 'day_of_year')) \\\n",
    "                .select('NDVI') \\\n",
    "                .mean()\\\n",
    "                .clip(AOI)\\\n",
    "                .divide(10000)\n",
    "vis_modis = {\n",
    "'min': 0.2,\n",
    "'max': 1,\n",
    "'palette': [\n",
    "'FFFFFF', 'CE7E45', 'DF923D', 'F1B555', 'FCD163', '99B718', '74A901',\n",
    "    '66A000', '529400', '3E8601', '207401', '056201', '004C00', '023B01',\n",
    "    '012E01', '011D01', '011301'\n",
    "]}\n",
    "\n",
    "Map.addLayer(MODIS, vis_modis, 'MODIS')\n",
    "Map.addLayer(AOI, {}, 'Parcela')\n",
    "Map.centerObject(AOI, 16)\n",
    "Map"
   ]
  }
 ],
 "metadata": {
  "hide_input": false,
  "kernelspec": {
   "display_name": "Python 3 (ipykernel)",
   "language": "python",
   "name": "python3"
  },
  "language_info": {
   "codemirror_mode": {
    "name": "ipython",
    "version": 3
   },
   "file_extension": ".py",
   "mimetype": "text/x-python",
   "name": "python",
   "nbconvert_exporter": "python",
   "pygments_lexer": "ipython3",
   "version": "3.9.7"
  },
  "toc": {
   "base_numbering": 1,
   "nav_menu": {},
   "number_sections": true,
   "sideBar": true,
   "skip_h1_title": false,
   "title_cell": "Table of Contents",
   "title_sidebar": "Contents",
   "toc_cell": false,
   "toc_position": {},
   "toc_section_display": true,
   "toc_window_display": false
  }
 },
 "nbformat": 4,
 "nbformat_minor": 5
}
