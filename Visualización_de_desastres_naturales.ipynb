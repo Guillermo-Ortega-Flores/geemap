{
 "cells": [
  {
   "cell_type": "code",
   "execution_count": null,
   "id": "a6b4a0ef",
   "metadata": {},
   "outputs": [],
   "source": [
    "import ee\n",
    "import os\n",
    "import geemap\n",
    "import geemap.foliumap as geemap"
   ]
  },
  {
   "cell_type": "markdown",
   "id": "a5f6c831",
   "metadata": {},
   "source": [
    "# VISUALIZACIÓN DE INCENDIOS\n",
    "En el siguiente panel se muestra en la ventana izquierda una imagen del 26-04-2018 con el efecto causado por el incendio en Indio Maíz, miestras que en el panel derecho se muestra una imagen del 25-01-2022 en el que se muestra la recuperación de la zona afectada. Puede arrastrar el botón central para establecer comparaciones del antes y despúes, también puede dar zoom a la imagen con el scroll del mause."
   ]
  },
  {
   "cell_type": "code",
   "execution_count": null,
   "id": "26ca05f1",
   "metadata": {},
   "outputs": [],
   "source": [
    "Map = geemap.Map(center=(11.0, -83.7), zoom=11)\n",
    "Map.add_basemap('OpenTopoMap')\n",
    "\n",
    "before = ee.Image('COPERNICUS/S2/20180426T160509_20180426T160709_T16PHT').select(['B11', 'B8', 'B2'])\n",
    "after = ee.Image('COPERNICUS/S2/20220125T160509_20220125T160505_T16PHT').select(['B11', 'B8', 'B2'])\n",
    "\n",
    "left_layer = geemap.ee_tile_layer(before, {'min':1000, 'max': 3500}, 'Antes')\n",
    "right_layer = geemap.ee_tile_layer(after, {'min': 2000, 'max': 4500}, 'Después')\n",
    "\n",
    "Map.split_map(left_layer, right_layer)\n",
    "\n",
    "Map"
   ]
  },
  {
   "cell_type": "markdown",
   "id": "6b3b583b",
   "metadata": {},
   "source": [
    "# VISUALIZACIÓN DE INUNDACIONES\n",
    "En la siguiente interfaz podrá obsrvar cuales zonas sufrieron inundaciones a causa del huracán Eta e Iota en noviembre del 2021, porá observar en color negro las zonas donde hay agua permanente, mientras que las zonas inundadas se muestran en color rojo. en la esquina superior derecha, junto al icono de yave crece aparece el botón \"Layers\", aqui puede activar o desactivar la visualización de la imagen para observar si las zonas inundadas corresponden a zonas agrícolas."
   ]
  },
  {
   "cell_type": "code",
   "execution_count": null,
   "id": "fbf564ac",
   "metadata": {},
   "outputs": [],
   "source": [
    "# DEFINE EL MAPA Y EL ZOOM\n",
    "Map = geemap.Map(center = (13.6, -83.85), zoom = 10)\n",
    "Map.add_basemap('HYBRID')\n",
    "\n",
    "# DEFINE EL AREA DE INTERÉS\n",
    "# AOI = ee.FeatureCollection('users/Guillermo-Ortega/Limites/Croquis_Nacional')\n",
    "\n",
    "AOI = ee.FeatureCollection('users/Guillermo-Ortega/Limites/Departamentos')\\\n",
    "            .filter(ee.Filter.inList('CODIGO', [91]));\n",
    "\n",
    "# AOI = ee.FeatureCollection('USDOS/LSIB_SIMPLE/2017')\\\n",
    "#         .filter(ee.Filter.eq('country_na', 'Nicaragua'))\n",
    "\n",
    "# ACCEDE A LA COLECCIÓN DE IMÁGENES\n",
    "coleccion = ee.ImageCollection(\"COPERNICUS/S1_GRD\")\\\n",
    "              .filter(ee.Filter.eq('instrumentMode', 'IW'))\\\n",
    "              .filter(ee.Filter.listContains('transmitterReceiverPolarisation', 'VH'))\\\n",
    "              .filter(ee.Filter.eq('orbitProperties_pass', 'DESCENDING'))\\\n",
    "              .filterMetadata('resolution_meters', 'equals', 10)\\\n",
    "              .filterBounds(AOI).select ('VH');\n",
    "\n",
    "# DEFINE EL ANTES Y EL DESPÉS\n",
    "antes = coleccion.filterDate('2022-05-01', '2022-05-20')\\\n",
    "                .median()\\\n",
    "                .clip(AOI)\\\n",
    "                .focal_mean(30, 'square', 'meters')\\\n",
    "                .int();\n",
    "despues = coleccion.filterDate('2022-06-01', '2022-06-30')\\\n",
    "                .median()\\\n",
    "                .clip(AOI)\\\n",
    "                .focal_mean(30, 'square', 'meters')\\\n",
    "                .int();\n",
    "\n",
    "# CREAR EL MULTIBANDA Y MOSTRAR EN EL MAPA\n",
    "RADAR_RGB = antes.addBands(despues).addBands(despues);\n",
    "\n",
    "# CREAR MASCARAS DE AGUA Y MOSTRARLAS EN EL MAPA\n",
    "aguaDespues = despues.updateMask(despues.lt(-20)).multiply(-1);\n",
    "Map.addLayer(aguaDespues, {'palette': ['FF0000']}, 'Agua despues', True, 1);\n",
    "\n",
    "aguaAntes = antes.updateMask(antes.lt(-20)).multiply(-1);\n",
    "Map.addLayer(aguaAntes, {'palette': ['00FFFF']}, 'Agua antes', True, 1);\n",
    "\n",
    "Map.addLayer(RADAR_RGB, {'min': -25, 'max': -12}, 'Imagen SAR Sentinel-1', False, 1);\n",
    "\n",
    "Map.addLayer(AOI, {'color': '00000000', 'width': 1, 'lineType': 'solid', 'fillColor': '00000000'}, 'Límites')\n",
    "\n",
    "# # ELABORAR UNA LEYENDA Y MOSTRARLA EN EL MAPA\n",
    "# elemetos_leyenda = {'Inundación': 'FF0000', 'Agua permanente': '000000',}\n",
    "# Map.add_legend(legend_title = 'Simbología', legend_dict = elemetos_leyenda, position = 'bottomright')\n",
    "\n",
    "Map"
   ]
  },
  {
   "cell_type": "code",
   "execution_count": null,
   "id": "9849d3de",
   "metadata": {},
   "outputs": [],
   "source": [
    "Map.publish(name= 'Áreas inundadas en la Costa Caribe Norte, junio 2022',\n",
    "           description= 'Una visualización a través de RADAR de las zonas inundadas')"
   ]
  }
 ],
 "metadata": {
  "hide_input": false,
  "kernelspec": {
   "display_name": "Python 3 (ipykernel)",
   "language": "python",
   "name": "python3"
  },
  "language_info": {
   "codemirror_mode": {
    "name": "ipython",
    "version": 3
   },
   "file_extension": ".py",
   "mimetype": "text/x-python",
   "name": "python",
   "nbconvert_exporter": "python",
   "pygments_lexer": "ipython3",
   "version": "3.9.7"
  },
  "toc": {
   "base_numbering": 1,
   "nav_menu": {},
   "number_sections": true,
   "sideBar": true,
   "skip_h1_title": false,
   "title_cell": "Table of Contents",
   "title_sidebar": "Contents",
   "toc_cell": false,
   "toc_position": {},
   "toc_section_display": true,
   "toc_window_display": false
  }
 },
 "nbformat": 4,
 "nbformat_minor": 5
}
