{
 "cells": [
  {
   "cell_type": "markdown",
   "id": "c1fbba20",
   "metadata": {},
   "source": [
    "**ESTIMACIÓN DE LA ETP A PARTIR DE IMÁGENES DEL SENSOR MODIS**"
   ]
  },
  {
   "cell_type": "markdown",
   "id": "3d291df5",
   "metadata": {},
   "source": [
    "## Descargamos los paquetes necesarios"
   ]
  },
  {
   "cell_type": "code",
   "execution_count": null,
   "id": "214379c4",
   "metadata": {},
   "outputs": [],
   "source": [
    "import ee\n",
    "import os \n",
    "import geemap\n",
    "import numpy as np\n",
    "import pandas as pd\n",
    "import matplotlib.pyplot as plt\n",
    "import seaborn as sns\n",
    "# from simpledbf import Dbf5"
   ]
  },
  {
   "cell_type": "markdown",
   "id": "3cd52d8c",
   "metadata": {},
   "source": [
    "## Accediendo a imágenes del sensor MODIS\n",
    "* Acceso a imágenes y delimitación de areas de estudio\n",
    "* Descarga de datos a la computadora en formato csv\n",
    "* Presentación de los datos en el mapa"
   ]
  },
  {
   "cell_type": "code",
   "execution_count": null,
   "id": "73559564",
   "metadata": {},
   "outputs": [],
   "source": [
    "Map = geemap.Map()\n",
    "Map.add_basemap(\"HYBRID\")\n",
    "# AOI = ee.FeatureCollection('users/Guillermo-Ortega/Limites/Departamentos')\n",
    "AOI = ee.FeatureCollection('users/Guillermo-Ortega/Limites/comunNic_6487')\n",
    "# Datos disponibles en reanalisis desde el 01-03-2000 a 12-03-2014\n",
    "# Datos disponibles en operacional desde el 01-03-2014 a actualidad\n",
    "etp = ee.ImageCollection(\"MODIS/006/MOD16A2\")\\\n",
    "                      .filter(ee.Filter.calendarRange(2014, 2014, 'year'))\\\n",
    "                      .filter(ee.Filter.calendarRange(1,1, 'month'))\\\n",
    "                      .filter(ee.Filter.calendarRange(1,15, 'day_of_month'))\\\n",
    "                      .select('PET').median().multiply(0.1).divide(8).clip(AOI); \n",
    "# 2022 tiene datos hasta el 17 de mayo\n",
    "direccion = os.path.expanduser('~/Desktop/ETP/2014')\n",
    "salida_pp_stats = os.path.join(direccion, '1_1_2014.csv')\n",
    "if not os.path.exists(direccion): os.makedirs(direccion)\n",
    "geemap.zonal_statistics(etp, AOI, salida_pp_stats, statistics_type = 'MEDIAN', scale = 500)\n",
    "\n",
    "vis_etp = { 'min': 0, 'max': 12, 'palette': ['9C27B0','0906f7', '15f9ff', '49fb08', \n",
    "                                             'daf895', 'f5e0f6', 'fc0419', 'B71C1C']}\n",
    "vis_lim = {'color': '000000ff', 'width': 1, 'lineType': 'solid', 'fillColor': '00000000'}\n",
    "\n",
    "Map.addLayer(etp, vis_etp, 'ept')\n",
    "# Map.addLayer(AOI, vis_lim, 'Límites')\n",
    "Map.centerObject(AOI, 7)\n",
    "Map"
   ]
  },
  {
   "cell_type": "code",
   "execution_count": null,
   "id": "b771e952",
   "metadata": {},
   "outputs": [],
   "source": [
    "# si desea se puede añadir una leyenda en forma de barra con tonos degradados\n",
    "colors = vis_etp[\"palette\"]\n",
    "vmin = vis_etp[\"min\"]\n",
    "vmax = vis_etp[\"max\"]\n",
    "Map.add_colorbar(vis_etp, label = \"etp en mm\", orientation = \"vertical\", position= \"bottomright\")"
   ]
  },
  {
   "cell_type": "markdown",
   "id": "80b091bc",
   "metadata": {},
   "source": [
    "## Mostrando la distribución de la etp por departamento\n",
    "* Traer el archivo desde un formato excel\n",
    "* Generar histográma de cajas para realizar la comparación interdepartamental"
   ]
  },
  {
   "cell_type": "code",
   "execution_count": null,
   "id": "a7f23aef",
   "metadata": {},
   "outputs": [],
   "source": [
    "ruta = \"C:/Users/guillermo.ortega/Desktop/ETP/ComETP.xlsx\"\n",
    "df_etp = pd.read_excel(ruta, sheet_name= \"etp\").sort_values(\"OBJECTID\")\n",
    "df_etp.head(3)"
   ]
  },
  {
   "cell_type": "code",
   "execution_count": null,
   "id": "beba5632",
   "metadata": {},
   "outputs": [],
   "source": [
    "f, ax = plt.subplots(figsize = (18, 5))\n",
    "sns.boxplot(x = \"Depto\", y = \"mar_2_2021\", data = df_etp).set(\n",
    "    xlabel = \"Departamento\", ylabel = \"ETP en mm\", \n",
    "    title = \"ETP promedio primera quincena de enero\")\n",
    "plt.grid()\n",
    "plt.xticks(rotation = 285)\n",
    "plt.show()"
   ]
  },
  {
   "cell_type": "code",
   "execution_count": null,
   "id": "ade5efd9",
   "metadata": {},
   "outputs": [],
   "source": [
    "plt.plot(df_etp['Managua'])"
   ]
  },
  {
   "cell_type": "markdown",
   "id": "12786021",
   "metadata": {},
   "source": [
    "## Accediendo a datos dbf"
   ]
  },
  {
   "cell_type": "code",
   "execution_count": null,
   "id": "ece41c0d",
   "metadata": {},
   "outputs": [],
   "source": [
    "# pip install simpledbf"
   ]
  },
  {
   "cell_type": "code",
   "execution_count": null,
   "id": "e23f1d65",
   "metadata": {},
   "outputs": [],
   "source": [
    "ruta_dbf = \"C:/Users/guillermo.ortega/Desktop/ETP/Comunidades/ComETP.dbf\"\n",
    "dato_dbf = Dbf5(ruta_dbf).to_dataframe().sort_values(['OBJECTID'])\n",
    "dato_dbf.head()"
   ]
  },
  {
   "cell_type": "code",
   "execution_count": null,
   "id": "0d0a753c",
   "metadata": {},
   "outputs": [],
   "source": [
    "dato_dbf[['ene_1_2001', 'ene_2_2001', 'feb_1_2001', 'feb_2_2001', \n",
    "          'mar_1_2001', 'mar_2_2001', 'abr_1_2001', 'abr_2_2001',\n",
    "          'may_1_2001', 'may_2_2001', 'jun_1_2001', 'jun_2_2001',\n",
    "          'jul_1_2001', 'jul_2_2001', 'ago_1_2001', 'ago_2_2001',\n",
    "          'sep_1_2001', 'sep_2_2001', 'oct_1_2001', 'oct_2_2001',\n",
    "          'nov_1_2001', 'nov_2_2001', 'dic_1_2001', 'dic_2_2001',]] = df_etp.iloc[:, [5,6,7,8,9,10,11,12,13,14,\n",
    "                                                                                     15,16,17,18,19,20,21,22,23,\n",
    "                                                                                     24,25,26,27,28]]\n",
    "dato_dbf.head()"
   ]
  }
 ],
 "metadata": {
  "hide_input": false,
  "kernelspec": {
   "display_name": "Python 3 (ipykernel)",
   "language": "python",
   "name": "python3"
  },
  "language_info": {
   "codemirror_mode": {
    "name": "ipython",
    "version": 3
   },
   "file_extension": ".py",
   "mimetype": "text/x-python",
   "name": "python",
   "nbconvert_exporter": "python",
   "pygments_lexer": "ipython3",
   "version": "3.9.7"
  },
  "toc": {
   "base_numbering": 1,
   "nav_menu": {},
   "number_sections": true,
   "sideBar": true,
   "skip_h1_title": false,
   "title_cell": "Table of Contents",
   "title_sidebar": "Contents",
   "toc_cell": false,
   "toc_position": {
    "height": "calc(100% - 180px)",
    "left": "10px",
    "top": "150px",
    "width": "166.475px"
   },
   "toc_section_display": true,
   "toc_window_display": false
  }
 },
 "nbformat": 4,
 "nbformat_minor": 5
}
