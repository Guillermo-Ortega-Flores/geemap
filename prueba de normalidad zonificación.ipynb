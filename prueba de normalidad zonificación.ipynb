{
 "cells": [
  {
   "cell_type": "code",
   "execution_count": 1,
   "id": "02175a86-77d0-4e02-bc11-f5dcaf197ee8",
   "metadata": {},
   "outputs": [],
   "source": [
    "import pandas as pd\n",
    "import matplotlib.pyplot as plt\n",
    "import seaborn as sns\n",
    "import numpy as np"
   ]
  },
  {
   "cell_type": "code",
   "execution_count": 15,
   "id": "6042b094-1c60-4f10-b228-1f29221b6a5c",
   "metadata": {},
   "outputs": [
    {
     "data": {
      "text/plain": [
       "count    116817.000000\n",
       "mean          0.485116\n",
       "std           0.187452\n",
       "min           0.011111\n",
       "25%           0.331111\n",
       "50%           0.441667\n",
       "75%           0.636111\n",
       "max           1.000000\n",
       "Name: IAC_Been, dtype: float64"
      ]
     },
     "execution_count": 15,
     "metadata": {},
     "output_type": "execute_result"
    }
   ],
   "source": [
    "ruta = \"C:/Users/guillermo.ortega/Desktop/Zonificación Biofísisca/FRIJOL/MUESTRA_SIN_BASURA.xlsx\"\n",
    "frijol = pd.read_excel(ruta, sheet_name = 'MUESTRA_SIN_BASURA')\n",
    "frijol['IAC_Been'].describe()"
   ]
  },
  {
   "cell_type": "code",
   "execution_count": 16,
   "id": "01461be9-fecc-4d33-8c46-b17ba2c49a36",
   "metadata": {},
   "outputs": [
    {
     "data": {
      "text/plain": [
       "-0.7793116624374474"
      ]
     },
     "execution_count": 16,
     "metadata": {},
     "output_type": "execute_result"
    }
   ],
   "source": [
    "frijol['IAC_Been'].kurt()"
   ]
  },
  {
   "cell_type": "code",
   "execution_count": 17,
   "id": "f65a702e-a7a8-41f5-84dd-40f951e3e6b7",
   "metadata": {},
   "outputs": [
    {
     "data": {
      "text/plain": [
       "0.3017051363176269"
      ]
     },
     "execution_count": 17,
     "metadata": {},
     "output_type": "execute_result"
    }
   ],
   "source": [
    "frijol['IAC_Been'].skew()"
   ]
  },
  {
   "cell_type": "code",
   "execution_count": 18,
   "id": "f8f6b774-d605-4028-9e5e-f4d1a1713727",
   "metadata": {},
   "outputs": [
    {
     "data": {
      "image/png": "[encoded data removed]",
      "text/plain": [
       "<Figure size 360x360 with 1 Axes>"
      ]
     },
     "metadata": {
      "needs_background": "light"
     },
     "output_type": "display_data"
    }
   ],
   "source": [
    "sns.displot(frijol['IAC_Been'])\n",
    "plt.show()"
   ]
  }
 ],
 "metadata": {
  "kernelspec": {
   "display_name": "Python 3 (ipykernel)",
   "language": "python",
   "name": "python3"
  },
  "language_info": {
   "codemirror_mode": {
    "name": "ipython",
    "version": 3
   },
   "file_extension": ".py",
   "mimetype": "text/x-python",
   "name": "python",
   "nbconvert_exporter": "python",
   "pygments_lexer": "ipython3",
   "version": "3.9.7"
  }
 },
 "nbformat": 4,
 "nbformat_minor": 5
}
