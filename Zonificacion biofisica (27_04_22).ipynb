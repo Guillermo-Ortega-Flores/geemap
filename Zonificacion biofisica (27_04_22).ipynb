{
 "cells": [
  {
   "cell_type": "code",
   "execution_count": null,
   "id": "71d2150a",
   "metadata": {},
   "outputs": [],
   "source": [
    "import os\n",
    "import geemap\n",
    "import ee"
   ]
  },
  {
   "cell_type": "markdown",
   "id": "d27d33b8",
   "metadata": {},
   "source": [
    "                                   ZONFICCACIÓN BIOFÍSICA Y APTITUD PRODUCTIVA DEL TERRITORIO"
   ]
  },
  {
   "cell_type": "markdown",
   "id": "5824afd7",
   "metadata": {},
   "source": [
    "## MAPAS DE ZONIFICACIÓN BIOFÍSICA"
   ]
  },
  {
   "cell_type": "markdown",
   "id": "a04be3ff",
   "metadata": {},
   "source": [
    "### COBERTURAS Y USOS DEL SUELO"
   ]
  },
  {
   "cell_type": "code",
   "execution_count": null,
   "id": "7da9dda7",
   "metadata": {
    "scrolled": true,
    "tags": []
   },
   "outputs": [],
   "source": [
    "Map = geemap.Map(center=(12.5, -85.5), zoom= 7)\n",
    "Map.add_basemap('OpenTopoMap')\n",
    "\n",
    "legend_dict = {\n",
    "    '1. Agua': '0703fa',\n",
    "    '2. Foresta': '33a02c',\n",
    "    '3. Vegetación herbacea': '02ff00',\n",
    "    '4. Vegetación inundada': '68fce6',\n",
    "    '5. Cultivos de riego': 'fb0c04',\n",
    "    '6. Tacotal': 'fdee19',\n",
    "    '7. Urbano': '575857',\n",
    "    '8. Suelo desnudo': 'ffdbdb',\n",
    "    '9. Sin datos': 'gray',\n",
    "    '10. Nubes': '000101',}\n",
    "\n",
    "S_2 = ee.Image('users/Guillermo-Ortega/Zonificacion_biofisica/Clasificacion_S2_10M')\n",
    "\n",
    "Map.addLayer(S_2, {\n",
    "    'palette': ['#0703fa', '#33a02c', '#02ff00', '#68fce6', '#fb0c04',\n",
    "                '#fdee19', '#575857', '#ffdbdb', 'gray','#000101'], \n",
    "    'min': 1,\n",
    "    'max': 10}, 'Land cover and land uses',\n",
    "    True, 1)\n",
    "\n",
    "# limites = ee.FeatureCollection(\"users/Guillermo-Ortega/Limites/Municipios\")\n",
    "# Map.addLayer(limites, {}, \"Limites municipales\", True, 0.3)\n",
    "\n",
    "Map.add_legend(legend_title=\"Mapa de cobertura y usos del suelo\", legend_dict=legend_dict)\n",
    "\n",
    "Map"
   ]
  },
  {
   "cell_type": "markdown",
   "id": "a1f781c3",
   "metadata": {},
   "source": [
    "### ALTITUD DEL TERRENO"
   ]
  },
  {
   "cell_type": "code",
   "execution_count": null,
   "id": "7641e2c1",
   "metadata": {},
   "outputs": [],
   "source": [
    "Map = geemap.Map(center=(12.5, -85.5), zoom= 7)\n",
    "Map.add_basemap('HYBRID')\n",
    "\n",
    "limite = ee.FeatureCollection('users/Guillermo-Ortega/Limites/Croquis_Nacional')\n",
    "\n",
    "dem = ee.Image('USGS/SRTMGL1_003').clip(limite)\n",
    "\n",
    "vis_params = {\n",
    "    'min': 0,\n",
    "    'max': 2000,\n",
    "    'palette': ['006633', 'E5FFCC', '662A00', 'D8D8D8', 'F5F5F5'],\n",
    "}\n",
    "\n",
    "Map.addLayer(dem, vis_params, 'SRTM DEM', True, 1)\n",
    "\n",
    "colors = vis_params['palette']\n",
    "vmin = vis_params['min']\n",
    "vmax = vis_params['max']\n",
    "\n",
    "Map.add_colorbar(vis_params, label=\"Elevation (m.s.n.m.)\", layer_name=\"SRTM DEM\",\n",
    "                orientation='vertical', transparent_bg=0, discrete=0)\n",
    "Map"
   ]
  },
  {
   "cell_type": "markdown",
   "id": "3d263240",
   "metadata": {},
   "source": [
    "### PENDIENTE DEL TERRENO EN %"
   ]
  },
  {
   "cell_type": "code",
   "execution_count": null,
   "id": "9f714129",
   "metadata": {},
   "outputs": [],
   "source": [
    "Map = geemap.Map(center=(12.5, -85.5), zoom= 7)\n",
    "Map.add_basemap('HYBRID')\n",
    "\n",
    "pendiente = ee.Image('users/Guillermo-Ortega/Zonificacion_biofisica/Pendiente_SRTM').int()\n",
    "\n",
    "visParam = {'min': 1, 'max': 9, 'palette':\n",
    "           ['#1235e5', '#58b453', '#96d265', '#c4e687', '#ebf7ad', '#ffedab', '#FFAB91', '#f9090b', '#9c1500']}\n",
    "\n",
    "Map.addLayer(pendiente.focalMean(10,'plus', 'meters'), visParam, 'Gradiente de la pendiente (%)', True, 1)\n",
    "\n",
    "leyenda = {\n",
    "    '9. > 60': '9c1500',\n",
    "    '8. 30 - 60': 'f9090b',\n",
    "    '7. 15 - 30': 'FFAB91',\n",
    "    '6. 10 - 15': 'fec16f',\n",
    "    '5. 5 - 10': 'ebf7ad',\n",
    "    '4. 2 - 5': 'c4e687',\n",
    "    '4. 2 - 5': 'c4e687',\n",
    "    '3. 1 - 2': '96d265',\n",
    "    '2. 0.2 - 1': '58b453',    \n",
    "    '1. 0 - 0.2': '1235e5'}\n",
    "\n",
    "# municipios = ee.FeatureCollection('users/Guillermo-Ortega/Limites/comunNic_6487')\n",
    "# Map.addLayer(municipios, {}, 'comunidades', True, 0.1)\n",
    "\n",
    "Map.add_legend(legend_title = \"% de pendiente\", legend_dict = leyenda)\n",
    "Map"
   ]
  },
  {
   "cell_type": "markdown",
   "id": "fe3155d8",
   "metadata": {},
   "source": [
    "### TIPOS DE SUELO DE ACUERDO A LA TAXONOMÍA DE LA WRB, 2006"
   ]
  },
  {
   "cell_type": "code",
   "execution_count": null,
   "id": "0a1ba5d7",
   "metadata": {},
   "outputs": [],
   "source": [
    "Map = geemap.Map(center=(12.5, -85.5), zoom= 7)\n",
    "Map.add_basemap('HYBRID')\n",
    "\n",
    "tiposSueloWRB = ee.Image('users/Guillermo-Ortega/Zonificacion_biofisica/Tipos_de_Suelos_WRB')\n",
    "\n",
    "vis_param = {'min': 0, 'max': 29, 'palette':\n",
    "            ['f9e999', '000000', 'f7f702', 'd7c59a', 'ffb005', '000000','cc8e69',  \n",
    "             '000000', '000000', '000000', '0b1126', 'fad2e9', 'c1dff0', '000000', \n",
    "             '2e5e8d', '000000', '06fa04', 'fb07fc', '25762c', '000000', 'abf5a2', \n",
    "             '000000', '000000', '000000', '12eed4', 'fb9a99', '000000', '000000', \n",
    "             '000000', 'ff5959']}\n",
    "\n",
    "Map.addLayer(tiposSueloWRB, vis_param, 'Tipos de suelo')\n",
    "\n",
    "leyenda = {\n",
    "    '29. VERTISOL': 'f9ffa4',\n",
    "    '25. SOLONCHAK': 'fb9a99',\n",
    "    '24. REGOZOL': '12eed4',\n",
    "    '20. FEOZEMS': 'abf5a2',\n",
    "    '18. LUVISOL': '25762c',    \n",
    "    '17. LIXOSOL': 'fb07fc',\n",
    "    '16. LEPTOSOL': '06fa04',\n",
    "    '14. HISTOSOL': '2e5e8d',\n",
    "    '12. GLEYSOL': 'c1dff0',\n",
    "    '11. FLUVISOL': 'fad2e9',\n",
    "    '10. FERRASOL': '0b1126',\n",
    "    '6.  CAMBISOL': 'cc8e69',\n",
    "    '4.  ARENOSOL': 'ffb005',\n",
    "    '3.  ANDOSOL': 'd7c59a',\n",
    "    '2.  ALISOL': 'f7f702',    \n",
    "    '0.  ACRISOL': 'ff5959'}\n",
    "  \n",
    "Map.add_legend(legend_title = \"Tipos de suelo (WRB, 2006) \", legend_dict = leyenda)\n",
    "\n",
    "Map"
   ]
  },
  {
   "cell_type": "markdown",
   "id": "4a2d3af0",
   "metadata": {},
   "source": [
    "### TEXTURA DEL SUELO"
   ]
  },
  {
   "cell_type": "code",
   "execution_count": null,
   "id": "910aa984",
   "metadata": {},
   "outputs": [],
   "source": [
    "Map = geemap.Map(center = (12.5, -85.5), zoom = 7)\n",
    "Map.add_basemap('HYBRID')\n",
    "\n",
    "AOI = ee.FeatureCollection('users/Guillermo-Ortega/Limites/Croquis_Nacional')\n",
    "\n",
    "textura = ee.Image('users/Guillermo-Ortega/Zonificacion_biofisica/suelo_Textura').select(['b3']).clip(AOI)\n",
    "\n",
    "vis_param_tex = {'min': 0, 'max': 7, 'palette': [\n",
    "    'red', '9d3706', 'f7a8f9', 'FFEB3B', 'ffddc4', '66FF00', 'd3efef','00e7ff']}\n",
    "\n",
    "Map.addLayer(textura, vis_param_tex, 'textura del suelo')\n",
    "\n",
    "elemento_leyenda = {\n",
    "    '0. No corresponde': 'FF0000',\n",
    "    '1. Arcilloso': '9d3706',\n",
    "    '2. Limoso-Arcilloso': 'f7a8f9',\n",
    "    '3. Arenoso-Arcilloso': 'FFEB3B',\n",
    "    '4. Franco-Arcilloso': 'ffddc4',\n",
    "    '6. Franco-Arcilloso-Arenoso': '66FF00',\n",
    "    '7. Franco': 'd3efef',\n",
    "    '9. Franco-Arenoso': '00e7ff'}\n",
    "\n",
    "Map.add_legend(legend_title = 'Tipos de textura', legend_dict = elemento_leyenda)\n",
    "\n",
    "Map"
   ]
  },
  {
   "cell_type": "markdown",
   "id": "5aaa58d2",
   "metadata": {},
   "source": [
    "### PH DEL SUELO"
   ]
  },
  {
   "cell_type": "code",
   "execution_count": null,
   "id": "711206ac",
   "metadata": {},
   "outputs": [],
   "source": [
    "Map = geemap.Map(center = (12.5, -85.5), zoom = 7)\n",
    "Map.add_basemap('HYBRID')\n",
    "\n",
    "pH = ee.Image('users/Guillermo-Ortega/Zonificacion_biofisica/pH').select(['b3'])\n",
    "\n",
    "vis_pH = {'min': 5, 'max': 7.5, 'palette': ['1365f4', 'd5efcf', '9ed898', '54b567', '1d8641', 'f10b0b']}\n",
    "\n",
    "Map.addLayer(pH, vis_pH, 'pH')\n",
    "\n",
    "colors: vis_pH['palette']\n",
    "vmin: vis_pH['min']\n",
    "vmax: vis_pH['max']\n",
    "\n",
    "Map.add_colorbar(vis_pH, label=\"pH (potencial de hidrógeno)\", layer_name=\"pH\",\n",
    "                orientation='vertical', transparent_bg=0, discrete=0)\n",
    "\n",
    "Map"
   ]
  },
  {
   "cell_type": "markdown",
   "id": "dc93f609",
   "metadata": {},
   "source": [
    "### ÁREAS PROTEGIDAS"
   ]
  },
  {
   "cell_type": "code",
   "execution_count": null,
   "id": "58a68c60",
   "metadata": {},
   "outputs": [],
   "source": [
    "Map = geemap.Map(center = (12.5, -85.5), zoom= 7)\n",
    "Map.add_basemap('HYBRID')\n",
    "\n",
    "area_protegida = ee.FeatureCollection('users/Guillermo-Ortega/Zonificacion_biofisica/Areas_Protegidas')\n",
    "\n",
    "\n",
    "vis_params = {\n",
    "    'color': '000000',\n",
    "    'colorOpacity': 1,\n",
    "    'pointSize': 5,\n",
    "    'pointShape': 'circle',\n",
    "    'width': 0.2,\n",
    "    'lineType': 'solid',\n",
    "    'fillColorOpacity': 1,\n",
    "}\n",
    "\n",
    "palette = ['5F6A6A', 'BFC9CA', 'EAEDED']\n",
    "\n",
    "Map.add_styled_vector(area_protegida, column=\"DESIG\", palette=palette, layer_name=\"Styled vector\", **vis_params)\n",
    "\n",
    "legend_elemen = {\n",
    "    '1. Parque nacioanl': '5F6A6A',\n",
    "    '2. Refugio de vida silvestre': 'BFC9CA',\n",
    "    '3. Reserva natural': 'EAEDED'\n",
    "}\n",
    "\n",
    "Map.add_legend(legend_title = 'Tipos de areas protegidas', legend_dict = legend_elemen)\n",
    "\n",
    "Map"
   ]
  },
  {
   "cell_type": "markdown",
   "id": "7d6cf2f3",
   "metadata": {},
   "source": [
    "### PRECIPITACIÓN PROMEDIO DE MAYO A JULIO"
   ]
  },
  {
   "cell_type": "code",
   "execution_count": null,
   "id": "7eee4985",
   "metadata": {},
   "outputs": [],
   "source": [
    "Map = geemap.Map(center = (12.5, -85.5), zoom = 7)\n",
    "Map.add_basemap('HYBRID')\n",
    "\n",
    "AOI = ee.FeatureCollection('users/Guillermo-Ortega/Limites/Croquis_Nacional')\n",
    "\n",
    "Precipitacion = ee.Image('users/Guillermo-Ortega/Zonificacion_biofisica/PP_5_a_7')\n",
    "\n",
    "vis_pp = {'min': 150, 'max': 400, 'palette': [\"ff0000\", \"ffff00\", \"97ff76\", \"0eb432\", \"4dc5ff\", \"0c35ff\"]}\n",
    "\n",
    "Map.addLayer(Precipitacion.focalMean(2000, 'circle', 'meters'), vis_pp,\n",
    "             'PP mayo - julio, 1990 - 2020')\n",
    "\n",
    "colors: vis_pp['palette']\n",
    "vmin: vis_pp['min']\n",
    "vmax: vis_pp['max']\n",
    "\n",
    "Map.add_colorbar(vis_pp, label = 'Precipitación promedio mensual mayo a junio (mm/mes)')\n",
    "\n",
    "Map"
   ]
  },
  {
   "cell_type": "markdown",
   "id": "76ab9a5f",
   "metadata": {},
   "source": [
    "### TEMPERATURA DIURNA DE MAYO A JULIO"
   ]
  },
  {
   "cell_type": "code",
   "execution_count": null,
   "id": "53f393bf",
   "metadata": {},
   "outputs": [],
   "source": [
    "Map = geemap.Map(center = (12.5, -85.5), zoom = 7)\n",
    "Map.add_basemap('HYBRID')\n",
    "\n",
    "T_Diurna = ee.Image('users/Guillermo-Ortega/Zonificacion_biofisica/TempDiur_5_a_7')\n",
    "\n",
    "visT_D =  {'min': 25, 'max': 35, 'palette': ['030d81', '0519ff', '05e8ff', '11ff01', 'fbff01', \n",
    "              'ff9901', 'ff0000', 'ad0000']}\n",
    "\n",
    "Map.addLayer(T_Diurna.focalMean(2000, 'circle', 'meters'), visT_D, \n",
    "             'Temperatura promedio diurna de mayo a julio, 1990 - 2020')\n",
    "\n",
    "colors: visT_D['palette']\n",
    "vmin: visT_D['min']\n",
    "vmax: visT_D['max']\n",
    "\n",
    "Map.add_colorbar(visT_D, label = 'Temperatura promedio diurna (mayo a julio) en °C')\n",
    "\n",
    "Map"
   ]
  },
  {
   "cell_type": "markdown",
   "id": "f38bf0be",
   "metadata": {},
   "source": [
    "### TEMPERATURA MEDIA NOCTURNA DE MAYO A JULIO"
   ]
  },
  {
   "cell_type": "code",
   "execution_count": null,
   "id": "b652e355",
   "metadata": {},
   "outputs": [],
   "source": [
    "Map = geemap.Map(center = (12.5, -85.5), zoom = 7)\n",
    "Map.add_basemap('HYBRID')\n",
    "\n",
    "T_Nocturna = ee.Image('users/Guillermo-Ortega/Zonificacion_biofisica/TempNoct_5_a_7')\n",
    "\n",
    "visT_Noc =  {'min':15, 'max': 25, 'palette': ['030d81', '0519ff', '05e8ff', '11ff01', 'fbff01', \n",
    "              'ff9901', 'ff0000', 'ad0000']}\n",
    "\n",
    "Map.addLayer(T_Nocturna.focalMean(2000, 'circle', 'meters'), visT_Noc, \n",
    "             'Temperatura promedio nocturna de mayo a julio, 1990 - 2020')\n",
    "\n",
    "colors: visT_Noc['palette']\n",
    "vmin: visT_Noc['min']\n",
    "vmax: visT_Noc['max']\n",
    "\n",
    "Map.add_colorbar(visT_Noc, label = 'Temperatura promedio nocturna (mayo a julio) en °C')\n",
    "\n",
    "Map"
   ]
  },
  {
   "cell_type": "markdown",
   "id": "11f0e85f",
   "metadata": {},
   "source": [
    "## MAPA DE APTITUD PRODUCTIVA DE LOS CULTIVOS"
   ]
  },
  {
   "cell_type": "markdown",
   "id": "200a84b4",
   "metadata": {},
   "source": [
    "### ZONAS APTAS PARA EL CULTIVO DE FRIJOL"
   ]
  },
  {
   "cell_type": "code",
   "execution_count": null,
   "id": "814fab30",
   "metadata": {},
   "outputs": [],
   "source": [
    "Map = geemap.Map(center = (12.5, -85.5), zoom = 7)\n",
    "Map.add_basemap('HYBRID')\n",
    "\n",
    "frijol_primera = ee.Image('users/Guillermo-Ortega/Zonificacion_biofisica/muestraFrijol_A')\n",
    "\n",
    "vis_frijol_primera = {\n",
    "    'min': 0,\n",
    "    'max': 0.95,\n",
    "    'palette': ['ff0000', 'e64a19', 'ff7043', 'ffab91', 'ffe0b2', \n",
    "                'fff9c4', 'ffff00', 'ccff00', '99ff00', '66ff66',\n",
    "                '33ff00', '33cc00', '39ad00', '007c00', '00e7f4',\n",
    "                '34b7f7', '2857f6', '0000ff', '5100ff', '910bf1', 'c515ff']\n",
    "}\n",
    "\n",
    "Map.addLayer(frijol_primera.focalMean(500, 'plus', 'meters'), vis_frijol_primera,\n",
    "             'Zonas aptas para producción de frijol de primera')\n",
    "\n",
    "agua = S_2.updateMask(S_2.eq(1));\n",
    "bosque = S_2.updateMask(S_2.eq(2));\n",
    "urbano = S_2.updateMask(S_2.eq(7));\n",
    "\n",
    "Map.addLayer(bosque, {'palette': ['d2d2d2']}, 'bosque');\n",
    "Map.addLayer(agua, {'palette': ['38393b']}, 'agua');\n",
    "Map.addLayer(urbano, {'palette': ['38393b']}, 'urbano');\n",
    "\n",
    "Map.add_styled_vector(area_protegida, column=\"DESIG\", palette=['888888'], layer_name=\"Styled vector\", **vis_params)\n",
    "\n",
    "\n",
    "#########################       LEGEND        ##########################################\n",
    "leyenda_frijol = {\n",
    "    '0 - 0': 'ff0000',\n",
    "    '1 - 5': 'e64a19',\n",
    "    '6 - 10': 'ff7043',\n",
    "    '11 - 15': 'ffab91',\n",
    "    '16 - 20': 'ffe0b2',\n",
    "    '21 - 25': 'fff9c4',\n",
    "    '26 - 30': 'ffff00',\n",
    "    '31 - 35': 'ccff00',\n",
    "    '36 - 40': '99ff00',\n",
    "    '41 - 45': '66ff66',\n",
    "    '46 - 50': '33ff00',\n",
    "    '51 - 55': '33cc00',\n",
    "    '56 - 60': '39ad00',\n",
    "    '61 - 65': '007c00',\n",
    "    '66 - 70': '00e7f4',\n",
    "    '71 - 75': '34b7f7',\n",
    "    '76 - 80': '2857f6',\n",
    "    '81 - 85': '0000ff',\n",
    "    '86 - 90': '5100ff',\n",
    "    '91 - 95': '910bf1',\n",
    "    '96 - 100': 'c515ff',\n",
    "    'No corresponde': '38393b',\n",
    "    'Área protegida': '888888',\n",
    "    'Excluido': 'd2d2d2',\n",
    "}\n",
    "\n",
    "Map.add_legend(legend_title = 'Leyenda (zonas aptas en %)', legend_dict = leyenda_frijol)\n",
    "\n",
    "Map"
   ]
  },
  {
   "cell_type": "code",
   "execution_count": null,
   "id": "154aecd7-6571-4dcf-898b-c872cfdf1887",
   "metadata": {},
   "outputs": [],
   "source": []
  }
 ],
 "metadata": {
  "hide_input": false,
  "kernelspec": {
   "display_name": "Python 3 (ipykernel)",
   "language": "python",
   "name": "python3"
  },
  "language_info": {
   "codemirror_mode": {
    "name": "ipython",
    "version": 3
   },
   "file_extension": ".py",
   "mimetype": "text/x-python",
   "name": "python",
   "nbconvert_exporter": "python",
   "pygments_lexer": "ipython3",
   "version": "3.9.7"
  },
  "toc": {
   "base_numbering": 1,
   "nav_menu": {},
   "number_sections": true,
   "sideBar": true,
   "skip_h1_title": false,
   "title_cell": "Table of Contents",
   "title_sidebar": "Contents",
   "toc_cell": false,
   "toc_position": {
    "height": "calc(100% - 180px)",
    "left": "10px",
    "top": "150px",
    "width": "279px"
   },
   "toc_section_display": true,
   "toc_window_display": false
  }
 },
 "nbformat": 4,
 "nbformat_minor": 5
}
