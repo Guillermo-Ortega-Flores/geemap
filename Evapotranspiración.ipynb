{
 "cells": [
  {
   "cell_type": "code",
   "execution_count": null,
   "id": "f9b5660e-f4e5-4262-b753-cffd1986005a",
   "metadata": {},
   "outputs": [],
   "source": [
    "import geemap\n",
    "import ee\n",
    "import os"
   ]
  },
  {
   "cell_type": "code",
   "execution_count": null,
   "id": "28c65908-ce89-42fd-852a-3f94d85e415f",
   "metadata": {},
   "outputs": [],
   "source": [
    "Map = geemap.Map()\n",
    "parcela = ee.FeatureCollection('users/Guillermo-Ortega/Muestra_Roger/parcela_muestral')\n",
    "\n",
    "ET_PM = ee.ImageCollection('MODIS/006/MOD16A2') \\\n",
    "                  .filter(ee.Filter.calendarRange(2001, 2022, 'year')) \\\n",
    "                  .filter(ee.Filter.calendarRange(1, 1, 'month')) \\\n",
    "                  .select('PET').median().multiply(0.1).divide(8) \\\n",
    "                  .clip(parcela)\n",
    "\n",
    "visParam = { 'min': 0, 'max': 20, 'palette': ['ffffff', 'fcd163', '99b718',\n",
    "              '66a000', '3e8601', '207401', '056201', '004c00', '011301']}\n",
    "\n",
    "Map.addLayer(ET_PM, visParam, 'Evapotranspiration by Penman Montieth')\n",
    "#Map.addLayer(parcela, {}, 'parcela')\n",
    "Map.centerObject(parcela, 18)\n",
    "Map"
   ]
  },
  {
   "cell_type": "code",
   "execution_count": null,
   "id": "8c223a7a-9234-4138-a49e-c374770f2f4f",
   "metadata": {},
   "outputs": [],
   "source": []
  }
 ],
 "metadata": {
  "kernelspec": {
   "display_name": "Python 3 (ipykernel)",
   "language": "python",
   "name": "python3"
  },
  "language_info": {
   "codemirror_mode": {
    "name": "ipython",
    "version": 3
   },
   "file_extension": ".py",
   "mimetype": "text/x-python",
   "name": "python",
   "nbconvert_exporter": "python",
   "pygments_lexer": "ipython3",
   "version": "3.9.7"
  }
 },
 "nbformat": 4,
 "nbformat_minor": 5
}
