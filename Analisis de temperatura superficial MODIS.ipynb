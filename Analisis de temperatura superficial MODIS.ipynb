{
 "cells": [
  {
   "cell_type": "markdown",
   "id": "c0628926",
   "metadata": {},
   "source": [
    "*ANALISIS DE TEMPERATURA SUPERFICIAL A TRAVÉS DE MODIS*"
   ]
  },
  {
   "cell_type": "markdown",
   "id": "9dbe2fb6",
   "metadata": {},
   "source": [
    "## Descargando paquetes necesarios"
   ]
  },
  {
   "cell_type": "code",
   "execution_count": 1,
   "id": "ab177115-6adb-4759-ba2f-dda8dfad773e",
   "metadata": {},
   "outputs": [],
   "source": [
    "import ee\n",
    "import os\n",
    "import geemap\n",
    "import numpy as np\n",
    "import pandas as pd\n",
    "import seaborn as sns\n",
    "import matplotlib.pyplot as plt"
   ]
  },
  {
   "cell_type": "markdown",
   "id": "2f93e3e3",
   "metadata": {},
   "source": [
    "## Accediendo a los datos de temperatura del sensor MODIS a 1 km"
   ]
  },
  {
   "cell_type": "code",
   "execution_count": 3,
   "id": "b87c0cdf-b4b0-40f1-893c-1b94669db14b",
   "metadata": {
    "tags": []
   },
   "outputs": [
    {
     "data": {
      "application/vnd.jupyter.widget-view+json": {
       "model_id": "0f2e505a715a4171810f4abac81eea8b",
       "version_major": 2,
       "version_minor": 0
      },
      "text/plain": [
       "Map(center=[12.927244498927001, -85.01289157265876], controls=(WidgetControl(options=['position', 'transparent…"
      ]
     },
     "metadata": {},
     "output_type": "display_data"
    }
   ],
   "source": [
    "Map = geemap.Map()\n",
    "Map.add_basemap('HYBRID')\n",
    "AOI = ee.FeatureCollection('users/Guillermo-Ortega/Limites/Municipios')\n",
    "#AOI = ee.FeatureCollection('users/Guillermo-Ortega/Muestra_Roger/parcela_muestral')\n",
    "def imagen (img):\n",
    "        LST_Media_1km = img.select(['LST_Day_1km']) \\\n",
    "        .add(img.select(['LST_Night_1km'])) \\\n",
    "        .divide(2).rename('LST_Media_1km')\n",
    "        return img.addBands(LST_Media_1km)\n",
    "\n",
    "Temperatura = ee.ImageCollection('MODIS/061/MOD11A2') \\\n",
    "                .filterBounds(AOI) \\\n",
    "                .filter(ee.Filter.calendarRange(2022, 2022, 'year')) \\\n",
    "                .filter(ee.Filter.calendarRange(143,149, 'day_of_year')) \\\n",
    "                .map(imagen) \\\n",
    "                .select('LST_Night_1km', 'LST_Media_1km', 'LST_Day_1km') \\\n",
    "                .median() \\\n",
    "                .multiply(0.02) \\\n",
    "                .subtract(273.15) \\\n",
    "                .clip(AOI)\n",
    "\n",
    "# direccion = os.path.expanduser('~/Desktop/Clima/TELEDETECCIÓN 2022/Clima/T_MODIS_2001-2022')\n",
    "# salida = os.path.join(direccion, 'T_131_140_2022.csv')\n",
    "# if not os.path.exists(direccion):\n",
    "#        os.makedirs(direccion)\n",
    "# geemap.zonal_statistics(Temperatura, AOI, salida, statistics_type = 'MEDIAN', scale = 1000)\n",
    "\n",
    "temperatureVis = {'min': 17, 'max': 38, 'palette':\n",
    "                ['040274', '040281', '0502a3', '0502b8', '0502ce', '0502e6',\n",
    "                 '0602ff', '235cb1', '307ef3', '269db1', '30c8e2', '32d3ef',\n",
    "                 '3be285', '3ff38f', '86e26f', '3ae237', 'b5e22e', 'd6e21f',\n",
    "                 'fff705', 'ffd611', 'ffb613', 'ff8b13', 'ff6e08', 'ff500d',\n",
    "                 'ff0000', 'de0101', 'c21301', 'a71001', '911003']\n",
    "                 }\n",
    "\n",
    "Map.addLayer(Temperatura.select('LST_Media_1km'), temperatureVis, 'temperatura')\n",
    "#Map.addLayer(AOI, {}, 'Parcela')\n",
    "Map.centerObject(AOI, 14)\n",
    "Map"
   ]
  },
  {
   "cell_type": "markdown",
   "id": "13f5c863",
   "metadata": {},
   "source": [
    "## Añadiendo leyenda "
   ]
  },
  {
   "cell_type": "code",
   "execution_count": null,
   "id": "89a419e4-9fda-450c-9170-fad90c3d6265",
   "metadata": {},
   "outputs": [],
   "source": [
    "colors = temperatureVis['palette']\n",
    "vmin = temperatureVis['min']\n",
    "vmax = temperatureVis['max']\n",
    "Map.add_colorbar(temperatureVis, label = 'Temperatura media °C', orientation = 'vertical')"
   ]
  },
  {
   "cell_type": "markdown",
   "id": "1cfdcf35",
   "metadata": {},
   "source": [
    "## Analizando variabilidad de T° por departamento"
   ]
  },
  {
   "cell_type": "code",
   "execution_count": null,
   "id": "e5819f23",
   "metadata": {},
   "outputs": [],
   "source": [
    "ruta_Tem = \"C:/Users/guillermo.ortega/Desktop/TELEDETECCIÓN 2022/Clima/T_MODIS_2001-2022/T_MODIS 2001 - 2022.xlsx\"\n",
    "temperatura = pd.read_excel(ruta_Tem, sheet_name = \"2022\").sort_values(\"DEPTO\")\n",
    "temperatura['T_Max_14'].describe()"
   ]
  },
  {
   "cell_type": "code",
   "execution_count": null,
   "id": "7007b190",
   "metadata": {},
   "outputs": [],
   "source": [
    "f, ax = plt.subplots(figsize = (10, 5))\n",
    "sns.boxplot(x = \"DEPTO\", y = \"T_Min_14\", data = temperatura).set(\n",
    "    xlabel = \"Departamentos\", ylabel = \"Temperatura °C\", \n",
    "    title = \"Registros de temperatura nocturna durante el periodo del 10 al 20 de mayo del 2022\")\n",
    "plt.xticks(rotation = 285)\n",
    "plt.show()"
   ]
  },
  {
   "cell_type": "markdown",
   "id": "bb830d86",
   "metadata": {},
   "source": [
    "## Analizando variabilidad de T° a través del tiempo"
   ]
  },
  {
   "cell_type": "code",
   "execution_count": null,
   "id": "f602fd6b",
   "metadata": {},
   "outputs": [],
   "source": [
    "temepartura_1 = pd.read_excel(ruta_Tem, sheet_name = '2001 - 2022').sort_values('DEPTO')\n",
    "#temepartura_1.head()"
   ]
  },
  {
   "cell_type": "code",
   "execution_count": null,
   "id": "cc467018",
   "metadata": {},
   "outputs": [],
   "source": [
    "f, ax = plt.subplots(figsize = (12, 5))\n",
    "sns.boxplot(x = 'Anio', y = 'T_Min_14', data = temepartura_1).set(\n",
    "    title = 'Comportamiento de las temperaturas, periodo 10 al 20 de mayo, 2001 - 2022',\n",
    "    xlabel = 'Años', ylabel = 'Temperatura en °C')\n",
    "plt.xticks(rotation = 285)\n",
    "plt.show()"
   ]
  }
 ],
 "metadata": {
  "hide_input": false,
  "kernelspec": {
   "display_name": "Python 3 (ipykernel)",
   "language": "python",
   "name": "python3"
  },
  "language_info": {
   "codemirror_mode": {
    "name": "ipython",
    "version": 3
   },
   "file_extension": ".py",
   "mimetype": "text/x-python",
   "name": "python",
   "nbconvert_exporter": "python",
   "pygments_lexer": "ipython3",
   "version": "3.9.7"
  },
  "toc": {
   "base_numbering": 1,
   "nav_menu": {},
   "number_sections": true,
   "sideBar": true,
   "skip_h1_title": false,
   "title_cell": "Table of Contents",
   "title_sidebar": "Contents",
   "toc_cell": false,
   "toc_position": {},
   "toc_section_display": true,
   "toc_window_display": false
  }
 },
 "nbformat": 4,
 "nbformat_minor": 5
}
